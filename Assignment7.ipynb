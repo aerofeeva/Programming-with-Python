{
 "cells": [
  {
   "cell_type": "markdown",
   "metadata": {},
   "source": [
    "# Homework 7\n",
    "## Fill in your name"
   ]
  },
  {
   "cell_type": "code",
   "execution_count": null,
   "metadata": {},
   "outputs": [],
   "source": [
    "first_name = \"Anastasia\"\n",
    "last_name = \"Erofeeva\"\n",
    "\n",
    "assert(len(first_name) != 0)\n",
    "assert(len(last_name)  != 0)"
   ]
  },
  {
   "cell_type": "markdown",
   "metadata": {},
   "source": [
    "# Problem 1: List Comprehensions\n",
    "## Write List Comprehensions to solve the following problems"
   ]
  },
  {
   "cell_type": "code",
   "execution_count": 1,
   "metadata": {},
   "outputs": [],
   "source": [
    "# list_comprehension.py\n",
    "#\n",
    "# Uses list comprehensions to find non-negative integers less than n, \n",
    "# non-negative odd integers less than n, the sum of the non-negative \n",
    "# odd integers less than n, and the squares of the non-negative integers \n",
    "# less than n. \n",
    "# Usage:\n",
    "#      % python list_comprehension.py\n",
    "#\n",
    "# Anastasia Erofeeva\n",
    "# 10/19/19\n",
    "\n",
    "\n",
    "from typing import List\n",
    "\n",
    "def sequence(n: int) -> List[int]:\n",
    "    \"Non-negative integers less than n\"\n",
    "    # Check each integer from 0 to n, add integers less than n to list,\n",
    "    # return list\n",
    "    return [x for x in range(0,n) if (x < n)]\n",
    "    \n",
    "def odd(n: int) -> List[int]:\n",
    "    \"Non-negative odd integers less than n\"\n",
    "    # Return odd integers from list returned by sequence(n) function\n",
    "    return [x for x in sequence(n) if (x % 2)]\n",
    "\n",
    "def odd_sum(n: int) -> int:\n",
    "    \"The sum of the non-negative odd integers less than n\"\n",
    "    # Return sum of integers from list returned by odd(n) function\n",
    "    return sum([x for x in odd(n)])\n",
    "\n",
    "def squares(n: int) -> List[int]:\n",
    "    \"The squares of the non-negative integers less than n\"\n",
    "    # Return squares of integers from list returned by sequence(n) function\n",
    "    return [(x * x) for x in sequence(n)]"
   ]
  },
  {
   "cell_type": "markdown",
   "metadata": {},
   "source": [
    "## Unit Tests for List Comprehensions"
   ]
  },
  {
   "cell_type": "code",
   "execution_count": 2,
   "metadata": {},
   "outputs": [
    {
     "data": {
      "text/plain": [
       "'Pass'"
      ]
     },
     "execution_count": 2,
     "metadata": {},
     "output_type": "execute_result"
    }
   ],
   "source": [
    "def test_squares():\n",
    "    assert(sequence(0) == [])\n",
    "    assert(sequence(1) == [0])\n",
    "    assert(sequence(5) == [0, 1, 2, 3, 4])\n",
    "    \n",
    "    assert(odd(0) == [])\n",
    "    assert(odd(1) == [])\n",
    "    assert(odd(9) == [1, 3, 5, 7])\n",
    "    \n",
    "    assert(odd_sum(0) == 0)\n",
    "    assert(odd_sum(1) == 0)    \n",
    "    assert(odd_sum(9) == 16)\n",
    "    \n",
    "    assert(squares(0) == [])\n",
    "    assert(squares(1) == [0])\n",
    "    assert(squares(9) == [0, 1, 4, 9, 16, 25, 36, 49, 64])\n",
    "    \n",
    "    return 'Pass'\n",
    "\n",
    "test_squares()"
   ]
  },
  {
   "cell_type": "markdown",
   "metadata": {},
   "source": [
    "# Problem 2: Find the item\n",
    "\n",
    "Write a function that takes an item and list of tuples and returns the first tuple that holds the item.\n",
    "\n",
    "If none of the tuples holds the item, return None"
   ]
  },
  {
   "cell_type": "code",
   "execution_count": 3,
   "metadata": {},
   "outputs": [],
   "source": [
    "# find_item.py\n",
    "#\n",
    "# Takes an item and a list of tuples and returns the first tuple that \n",
    "# holds the item\n",
    "# Usage:\n",
    "#      % python find_item.py\n",
    "#\n",
    "# Anastasia Erofeeva\n",
    "# 10/19/19\n",
    "\n",
    "\n",
    "from typing import Any, List, Tuple\n",
    "\n",
    "def find_item(item: Any, lst: List[Tuple]) -> Tuple:\n",
    "    \"Which tuple holds the item?\"\n",
    "    # For every tuple in list\n",
    "    for t in lst:\n",
    "        # If item in tuple\n",
    "        if item in t:\n",
    "            # Return tuple\n",
    "            return t"
   ]
  },
  {
   "cell_type": "markdown",
   "metadata": {},
   "source": [
    "## Unit tests for find_item"
   ]
  },
  {
   "cell_type": "code",
   "execution_count": 4,
   "metadata": {},
   "outputs": [
    {
     "name": "stdout",
     "output_type": "stream",
     "text": [
      "Passed\n"
     ]
    }
   ],
   "source": [
    "def test_find_item():\n",
    "    \"Unit test for find_item()\"\n",
    "    \n",
    "    lst = [('one', 'two'), (1, 2, 3), ('posh', 'spice')]\n",
    "    assert(find_item('two', lst) == ('one', 'two'))\n",
    "    assert(find_item(2, lst) == (1, 2, 3))\n",
    "    assert(find_item('spice', lst) == ('posh', 'spice'))\n",
    "    assert(find_item('mango', lst) == None)\n",
    "    \n",
    "    print('Passed')\n",
    " \n",
    "\n",
    "test_find_item()"
   ]
  },
  {
   "cell_type": "markdown",
   "metadata": {},
   "source": [
    "# Problem 3: Hamming Distance"
   ]
  },
  {
   "cell_type": "markdown",
   "metadata": {},
   "source": [
    "The Hamming distance compares two strings of the same length.  It counts the number of places where the strings are different.\n",
    "\n",
    "Your function should throw an ValueError Exception if the strings have different lengths. Your Exception should include text describing the problem in your own words."
   ]
  },
  {
   "cell_type": "code",
   "execution_count": 5,
   "metadata": {},
   "outputs": [],
   "source": [
    "# hamming.py\n",
    "#\n",
    "# Returns the number of places where two strings are different.\n",
    "# Usage:\n",
    "#      % python hamming.py\n",
    "#\n",
    "# Anastasia Erofeeva\n",
    "# 10/19/19\n",
    "\n",
    "\n",
    "def hamming_distance(str1: str, str2: str) -> int:\n",
    "    \"Return the number of differences\"\n",
    "    \n",
    "    # If strings are not same length, throw ValueError Exception\n",
    "    if len(str1) != len(str2):\n",
    "        raise ValueError(\"Cannot compare strings of different lengths: \"\n",
    "                         \"%s and %s\" % (str1, str2))\n",
    "    \n",
    "    # Make both strings lowercase\n",
    "    str1 = str1.lower()\n",
    "    str2 = str2.lower()\n",
    "    \n",
    "    # Keep track of number of differences\n",
    "    count = 0\n",
    "    \n",
    "    # If strings are not the same\n",
    "    if str1 != str2:\n",
    "        \n",
    "        # Check every index in strings\n",
    "        for i in range(len(str1)):\n",
    "            \n",
    "            # If characters at same index are different, increment count \n",
    "            if str1[i] != str2[i]:\n",
    "                count += 1\n",
    "    return count"
   ]
  },
  {
   "cell_type": "markdown",
   "metadata": {},
   "source": [
    "## Unit Tests for hamming_distance()"
   ]
  },
  {
   "cell_type": "code",
   "execution_count": 6,
   "metadata": {},
   "outputs": [
    {
     "data": {
      "text/plain": [
       "'Pass'"
      ]
     },
     "execution_count": 6,
     "metadata": {},
     "output_type": "execute_result"
    }
   ],
   "source": [
    "def test_hamming():\n",
    "    assert(hamming_distance(\"A\", \"A\") == 0)\n",
    "    assert(hamming_distance(\"GGACTGA\", \"GGACTGA\") == 0)\n",
    "    assert(hamming_distance(\"A\", \"G\") == 1)\n",
    "    assert(hamming_distance(\"AG\", \"CT\") == 2)\n",
    "    assert(hamming_distance(\"AT\", \"CT\") == 1)\n",
    "    assert(hamming_distance(\"GGACG\", \"GGTCG\") == 1)\n",
    "    assert(hamming_distance(\"ggACG\", \"GGtCG\") == 1)\n",
    "    assert(hamming_distance(\"GGACG\", \"ggtCG\") == 1)\n",
    "    assert(hamming_distance(\"ACCAGGG\", \"ACTATGG\") == 2)\n",
    "    assert(hamming_distance(\"AAG\", \"AAA\") == 1)\n",
    "    assert(hamming_distance(\"AAA\", \"AAG\") == 1)\n",
    "    assert(hamming_distance(\"TAG\", \"GAT\") == 2)\n",
    "    assert(hamming_distance(\"GATACA\", \"GCATAA\") == 4)\n",
    "    assert(hamming_distance(\"GGACGGATTCTG\", \"AGGACGGATTCT\") == 9)\n",
    "\n",
    "    return 'Pass'\n",
    "\n",
    "test_hamming()"
   ]
  },
  {
   "cell_type": "markdown",
   "metadata": {},
   "source": [
    "## Should throw an exception"
   ]
  },
  {
   "cell_type": "code",
   "execution_count": 7,
   "metadata": {},
   "outputs": [
    {
     "ename": "ValueError",
     "evalue": "Cannot compare strings of different lengths: AATG and AAA",
     "output_type": "error",
     "traceback": [
      "\u001b[1;31m---------------------------------------------------------------------------\u001b[0m",
      "\u001b[1;31mValueError\u001b[0m                                Traceback (most recent call last)",
      "\u001b[1;32m<ipython-input-7-4460ea83e012>\u001b[0m in \u001b[0;36m<module>\u001b[1;34m\u001b[0m\n\u001b[1;32m----> 1\u001b[1;33m \u001b[0mhamming_distance\u001b[0m\u001b[1;33m(\u001b[0m\u001b[1;34m\"AATG\"\u001b[0m\u001b[1;33m,\u001b[0m \u001b[1;34m\"AAA\"\u001b[0m\u001b[1;33m)\u001b[0m\u001b[1;33m\u001b[0m\u001b[1;33m\u001b[0m\u001b[0m\n\u001b[0m",
      "\u001b[1;32m<ipython-input-5-f571fc316fde>\u001b[0m in \u001b[0;36mhamming_distance\u001b[1;34m(str1, str2)\u001b[0m\n\u001b[0;32m     15\u001b[0m     \u001b[1;32mif\u001b[0m \u001b[0mlen\u001b[0m\u001b[1;33m(\u001b[0m\u001b[0mstr1\u001b[0m\u001b[1;33m)\u001b[0m \u001b[1;33m!=\u001b[0m \u001b[0mlen\u001b[0m\u001b[1;33m(\u001b[0m\u001b[0mstr2\u001b[0m\u001b[1;33m)\u001b[0m\u001b[1;33m:\u001b[0m\u001b[1;33m\u001b[0m\u001b[1;33m\u001b[0m\u001b[0m\n\u001b[0;32m     16\u001b[0m         raise ValueError(\"Cannot compare strings of different lengths: \"\n\u001b[1;32m---> 17\u001b[1;33m                          \"%s and %s\" % (str1, str2))\n\u001b[0m\u001b[0;32m     18\u001b[0m \u001b[1;33m\u001b[0m\u001b[0m\n\u001b[0;32m     19\u001b[0m     \u001b[1;31m# Make both strings lowercase\u001b[0m\u001b[1;33m\u001b[0m\u001b[1;33m\u001b[0m\u001b[1;33m\u001b[0m\u001b[0m\n",
      "\u001b[1;31mValueError\u001b[0m: Cannot compare strings of different lengths: AATG and AAA"
     ]
    }
   ],
   "source": [
    "hamming_distance(\"AATG\", \"AAA\")"
   ]
  },
  {
   "cell_type": "markdown",
   "metadata": {},
   "source": [
    "# Problem 4: Duplicate letters"
   ]
  },
  {
   "cell_type": "markdown",
   "metadata": {},
   "source": [
    "Write a function that decides if a string has duplicate letters\n",
    "\n",
    "'Aa' has duplicate letters. \n",
    "\n",
    "' A b c d ' has many blanks, but no letter is duplicated.  "
   ]
  },
  {
   "cell_type": "code",
   "execution_count": 8,
   "metadata": {},
   "outputs": [],
   "source": [
    "# duplicate.py\n",
    "#\n",
    "# Returns whether or not a string has duplicate letters.\n",
    "# Usage:\n",
    "#      % python duplicate.py\n",
    "#\n",
    "# Anastasia Erofeeva\n",
    "# 10/19/19\n",
    "#\n",
    "# I got the idea to use isalpha() to check if a character is a letter from:\n",
    "# https://stackoverflow.com/questions/15558392/how-to-check-if-character-in\n",
    "# -string-is-a-letter-python\n",
    "\n",
    "\n",
    "from collections import defaultdict\n",
    "\n",
    "def has_duplicate_letter(text: str) -> bool:\n",
    "    \"Does the string have duplicate letters?\"\n",
    "    \n",
    "    # Make text lowercase\n",
    "    text = text.lower()\n",
    "    \n",
    "    # Default dictionary with integer values set to 0\n",
    "    d = defaultdict(int)\n",
    "    \n",
    "    # Check every character in text, if character is a letter,\n",
    "    # add letter to dictionary and increment count of letter by 1\n",
    "    for ch in text:\n",
    "        if ch.isalpha():\n",
    "            d[ch] += 1\n",
    "    \n",
    "    # Return True if any of dictionary values are greater than 1, \n",
    "    # which means a letter occurs more than once in text\n",
    "    for v in d.values():\n",
    "        if v > 1:\n",
    "            return True\n",
    "    \n",
    "    return False"
   ]
  },
  {
   "cell_type": "markdown",
   "metadata": {},
   "source": [
    "# Unit Tests"
   ]
  },
  {
   "cell_type": "code",
   "execution_count": 9,
   "metadata": {},
   "outputs": [
    {
     "name": "stdout",
     "output_type": "stream",
     "text": [
      "Pass\n"
     ]
    }
   ],
   "source": [
    "def test_has_duplicate_letter():\n",
    "    assert(not has_duplicate_letter('abdomens'))\n",
    "    assert(not has_duplicate_letter('abducens'))\n",
    "    assert(not has_duplicate_letter('abducent'))\n",
    "    assert(not has_duplicate_letter('abductores'))\n",
    "    assert(not has_duplicate_letter('ambidextrously'))\n",
    "    assert(not has_duplicate_letter('abridgments'))\n",
    "    assert(not has_duplicate_letter(' blamks dont '))\n",
    "\n",
    "    assert(has_duplicate_letter('batter'))\n",
    "\n",
    "    print('Pass')\n",
    "    \n",
    "test_has_duplicate_letter()"
   ]
  },
  {
   "cell_type": "markdown",
   "metadata": {},
   "source": [
    "# Problem 5: Secret Code"
   ]
  },
  {
   "cell_type": "markdown",
   "metadata": {},
   "source": [
    "A mobster uses a super secret code to obscure his messages.\n",
    "\n",
    "A is replace by Z and Z by A: B is replaced by Y, the fifth letter, 'e' is replaced by the fifth from the last, 'v', and so on.  Run the cell below to see the mapping.   \n",
    "\n",
    "Blanks are removed, and the text is sent in lower case.    "
   ]
  },
  {
   "cell_type": "code",
   "execution_count": 10,
   "metadata": {},
   "outputs": [
    {
     "name": "stdout",
     "output_type": "stream",
     "text": [
      "abcdefghijklmnopqrstuvwxyz\n",
      "zyxwvutsrqponmlkjihgfedcba\n"
     ]
    }
   ],
   "source": [
    "# Mapping from plain text to cipher\n",
    "\n",
    "import string\n",
    "\n",
    "text = string.ascii_lowercase  \n",
    "print(text)\n",
    "print(text[::-1])"
   ]
  },
  {
   "cell_type": "code",
   "execution_count": 11,
   "metadata": {},
   "outputs": [],
   "source": [
    "# encode.py\n",
    "#\n",
    "# Takes a string and returns an encoded string where A is replaced by Z\n",
    "# and so on. \n",
    "# Usage:\n",
    "#      % python encode.py\n",
    "#\n",
    "# Anastasia Erofeeva\n",
    "# 10/19/19\n",
    "#\n",
    "# I got the idea to use the maketrans() and translate() methods from:\n",
    "# https://stackoverflow.com/questions/42048510/reverse-alphabet\n",
    "# I looked up the syntax for the maketrans() and translate() methods here:\n",
    "# https://www.programiz.com/python-programming/methods/string/maketrans\n",
    "# https://www.programiz.com/python-programming/methods/string/translate\n",
    "\n",
    "\n",
    "def encode(text: str) -> str:\n",
    "    \"Encode plaintext into cipher text\"\n",
    "    \n",
    "    # Convert text to lowercase\n",
    "    text  = text.lower()\n",
    "    \n",
    "    # Empty list to store letters\n",
    "    result = []\n",
    "    \n",
    "    # Check every character in text, if character is letter, append to list\n",
    "    for ch in text:\n",
    "        if ch.isalpha():\n",
    "            result.append(ch)\n",
    "    \n",
    "    # Convert list to string\n",
    "    s = ''.join(result)\n",
    "    \n",
    "    # Two strings for maketrans() function, every character in first string\n",
    "    # maps to character at same index in second string\n",
    "    alphabet = 'abcdefghijklmnopqrstuvwxyz'\n",
    "    reverse = 'zyxwvutsrqponmlkjihgfedcba'\n",
    "    \n",
    "    # Unicode representation mapping of characters for translation\n",
    "    translation = s.maketrans(alphabet, reverse)\n",
    "    \n",
    "    # Return translated string, where each character is mapped to\n",
    "    # corresponing character in translation table from maketrans() method\n",
    "    return s.translate(translation)"
   ]
  },
  {
   "cell_type": "markdown",
   "metadata": {},
   "source": [
    "## Unit Tests for encode"
   ]
  },
  {
   "cell_type": "code",
   "execution_count": 12,
   "metadata": {},
   "outputs": [
    {
     "data": {
      "text/plain": [
       "'Pass'"
      ]
     },
     "execution_count": 12,
     "metadata": {},
     "output_type": "execute_result"
    }
   ],
   "source": [
    "import string\n",
    "\n",
    "def test_encode():\n",
    "    assert(encode(\"no\") == \"ml\")\n",
    "    assert(encode(\"yes\") == \"bvh\")\n",
    "    assert(encode(\"OMG\") == \"lnt\")\n",
    "    assert(encode(\"O M G\") == \"lnt\")\n",
    "    assert(encode(\"mindblowingly\") == \"nrmwyoldrmtob\")\n",
    "    assert(encode(\"Truth is fiction.\") == \"gifgsrhurxgrlm\")\n",
    "    assert(encode(\"anobstacleisoftenasteppingstone\") == \"zmlyhgzxovrhlugvmzhgvkkrmthglmv\") \n",
    "    plaintext = \"The quick brown fox jumps over the lazy dog.\"\n",
    "    ciphertext = \"gsvjfrxpyildmulcqfnkhlevigsvozabwlt\"\n",
    "    assert(encode(plaintext) == ciphertext)\n",
    "\n",
    "    return 'Pass'\n",
    "\n",
    "test_encode()"
   ]
  },
  {
   "cell_type": "markdown",
   "metadata": {
    "collapsed": true
   },
   "source": [
    "# Problem 6: Write a program \n",
    "\n",
    "Find the most popular zip codes for the beer and wine suppliers to the state of Missouri.  You will find a file in Ed\n",
    "\n",
    "/course/data/missouri-beer-wine.csv\n",
    "\n",
    "which holds information about the suppliers.  There is also a link from the Canvas assignment.  \n",
    "\n",
    "One column has zip code: some will be full 9 digits zip codes: trim them to the initial 5 digits.\n",
    "\n",
    "Keep track of the number of times each zip code appears, and print the three most popular zip codes, in descending order. "
   ]
  },
  {
   "cell_type": "code",
   "execution_count": 1,
   "metadata": {},
   "outputs": [
    {
     "name": "stdout",
     "output_type": "stream",
     "text": [
      "94558\n",
      "94574\n",
      "95448\n"
     ]
    }
   ],
   "source": [
    "# missouri.py\n",
    "#\n",
    "# Finds the 3 most popular zip codes in /course/data/missouri-beer-wine.csv\n",
    "# Usage:\n",
    "#      % python missouri.py\n",
    "#\n",
    "# Anastasia Erofeeva\n",
    "# 10/19/19\n",
    "# \n",
    "# I got the idea to use csv.reader() to read the csv file from:\n",
    "# https://www.programiz.com/python-programming/reading-csv-files\n",
    "#\n",
    "# I looked up how to check if a string contains only numbers here:\n",
    "# https://stackoverflow.com/questions/21388541/how-do-you-check-in-python\n",
    "# -whether-a-string-contains-only-numbers\n",
    "#\n",
    "# I got the idea to use Counter and most_common() to find the most popular\n",
    "# zip codes in the dictionary here:\n",
    "# https://www.geeksforgeeks.org/python-program-to-find-the-highest-3-values\n",
    "# -in-a-dictionary/\n",
    "\n",
    "\n",
    "import csv\n",
    "from typing import Dict\n",
    "from collections import defaultdict, Counter\n",
    "\n",
    "\n",
    "def getZipCodes(fileName):\n",
    "    \"Get zip codes from file and add them to dictionary with counts\"\n",
    "    \n",
    "    # Default dictionary for counting occurances of zip codes\n",
    "    zipCounts = defaultdict(int)\n",
    "    \n",
    "    # Open file\n",
    "    with open(fileName, 'r') as f:\n",
    "        \n",
    "        # Reader for csv file\n",
    "        csvReader = csv.reader(f)\n",
    "        \n",
    "        # Check every row of file, each row is a list\n",
    "        for row in csvReader:\n",
    "            \n",
    "            # Zip code is at index 1 of list\n",
    "            zipcode = row[1]\n",
    "            zipLength = len(zipcode)\n",
    "            \n",
    "            # If zip code is all digits and between 5 and 9 characters long\n",
    "            if (zipcode.isdigit()) and (zipLength == 5 or zipLength == 9):\n",
    "                \n",
    "                # Get first 5 characters of zip code\n",
    "                zipcode = row[1][:5]\n",
    "                \n",
    "                # Add zip code to dictionary and increment its count by 1\n",
    "                zipCounts[zipcode] += 1\n",
    "                \n",
    "        printMostCommon(zipCounts)\n",
    "\n",
    "        \n",
    "def printMostCommon(zipCounts: Dict[str, int]): \n",
    "        # Counter container to count number of occurances of zip codes\n",
    "        c = Counter(zipCounts)\n",
    "        \n",
    "        # List with 3 most popular zip codes\n",
    "        most = c.most_common(3)\n",
    "        \n",
    "        # Print 3 most popular zip codes\n",
    "        [print(i[0]) for i in most]\n",
    "        \n",
    "\n",
    "getZipCodes('missouri-beer-wine.csv')"
   ]
  },
  {
   "cell_type": "code",
   "execution_count": null,
   "metadata": {},
   "outputs": [],
   "source": []
  }
 ],
 "metadata": {
  "kernelspec": {
   "display_name": "Python 3",
   "language": "python",
   "name": "python3"
  },
  "language_info": {
   "codemirror_mode": {
    "name": "ipython",
    "version": 3
   },
   "file_extension": ".py",
   "mimetype": "text/x-python",
   "name": "python",
   "nbconvert_exporter": "python",
   "pygments_lexer": "ipython3",
   "version": "3.7.3"
  }
 },
 "nbformat": 4,
 "nbformat_minor": 1
}
