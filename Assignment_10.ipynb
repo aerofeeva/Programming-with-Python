{
 "cells": [
  {
   "cell_type": "markdown",
   "metadata": {},
   "source": [
    "# Homework 10"
   ]
  },
  {
   "cell_type": "code",
   "execution_count": null,
   "metadata": {},
   "outputs": [],
   "source": [
    "# Name: Anastasia Erofeeva"
   ]
  },
  {
   "cell_type": "markdown",
   "metadata": {},
   "source": [
    "# 1) Drop Char\n",
    "\n",
    "Write a function that uses a List Comprehension to take \n",
    "a string and returns a list of all \n",
    "lower case strings you can obtain by removing a single character.  \n",
    "\n",
    "drop_char('Total') should yield the list \n",
    "```python\n",
    "['otal', 'ttal', 'toal', 'totl', 'tota']\n",
    "```\n",
    "You may pass the Unit Tests without using a List Comprehension, but I will ask the TFs to only give credit if you use a List Comprehension.  "
   ]
  },
  {
   "cell_type": "code",
   "execution_count": 1,
   "metadata": {},
   "outputs": [],
   "source": [
    "# drop_char.py\n",
    "#\n",
    "# Takes a string and returns a list of all lower case strings you can obtain\n",
    "# by removing a single character.\n",
    "# Usage:\n",
    "#      % drop_char.py\n",
    "#\n",
    "# Anastasia Erofeeva\n",
    "# 11/09/19\n",
    "\n",
    "\n",
    "from typing import List\n",
    "\n",
    "def drop_char(word: str) -> List[str]:\n",
    "    \"Return all lower case strings obtained by dropping one char\"\n",
    "    \n",
    "    # Convert word to lower case\n",
    "    word = word.lower()\n",
    "    \n",
    "    # For every index in word, concatenate characters before that index\n",
    "    # and after that index, without including character at that index\n",
    "    return [word[:i] + word[i+1:] for i in range(len(word))]"
   ]
  },
  {
   "cell_type": "markdown",
   "metadata": {},
   "source": [
    "## Unit Test for Drop Char"
   ]
  },
  {
   "cell_type": "code",
   "execution_count": 2,
   "metadata": {},
   "outputs": [
    {
     "name": "stdout",
     "output_type": "stream",
     "text": [
      "Pass\n"
     ]
    }
   ],
   "source": [
    "assert(drop_char('Total') == ['otal', 'ttal', 'toal', 'totl', 'tota'])\n",
    "assert(drop_char('WORD') == ['ord', 'wrd', 'wod', 'wor'])\n",
    "\n",
    "print('Pass')"
   ]
  },
  {
   "cell_type": "markdown",
   "metadata": {},
   "source": [
    "# 2) Anagram\n",
    "\n",
    "An anagram is a word formed by rearranging the letters of a different word, using each of the original letters exactly once. \n",
    "\n",
    "Write a function that decides if two strings are anagrams.  \n",
    "\n",
    "A word is not an anagram of itself: the other word must be different.  "
   ]
  },
  {
   "cell_type": "code",
   "execution_count": 3,
   "metadata": {},
   "outputs": [],
   "source": [
    "# anagram.py\n",
    "#\n",
    "# Takes two strings and returns whether or not they are anagrams.\n",
    "# Usage:\n",
    "#      % anagram.py\n",
    "#\n",
    "# Anastasia Erofeeva\n",
    "# 11/09/19\n",
    "\n",
    "\n",
    "def is_anagram(word1: str, word2: str) -> bool:\n",
    "    \"Is word2 an anagram of word1?\"\n",
    "    \n",
    "    # Convert words to lower case\n",
    "    word1 = word1.lower()\n",
    "    word2 = word2.lower()\n",
    "    \n",
    "    # If words are the same, return False\n",
    "    if word1 == word2:\n",
    "        return False\n",
    "    \n",
    "    # Convert words to sorted lists of characters\n",
    "    lst1 = sorted(list(word1))\n",
    "    lst2 = sorted(list(word2))\n",
    "    \n",
    "    # If sorted lists of characters are the same, return True\n",
    "    if lst1 == lst2:\n",
    "        return True\n",
    "    \n",
    "    # Otherwise, return False\n",
    "    return False"
   ]
  },
  {
   "cell_type": "markdown",
   "metadata": {},
   "source": [
    "## Unit Test for Anagram"
   ]
  },
  {
   "cell_type": "code",
   "execution_count": 4,
   "metadata": {},
   "outputs": [
    {
     "name": "stdout",
     "output_type": "stream",
     "text": [
      "Pass\n"
     ]
    }
   ],
   "source": [
    "def test_anagram():\n",
    "    # Test anagrams\n",
    "    lst = [[\"master\", \"stream\"],\n",
    "                [\"stream\", \"master\"],\n",
    "                [\"Listen\", \"Inlets\"],\n",
    "                [\"Listen\", \"Silent\"],\n",
    "                [\"regally\", \"largely\"],\n",
    "                [\"Carthorse\", \"Orchestra\"]]\n",
    "    for pair in lst:\n",
    "        assert is_anagram(pair[0], pair[1])\n",
    " \n",
    "    # Test non-anagrams\n",
    "    lst =  [[\"good\", \"goody\"],\n",
    "                [\"diaper\", \"zombies\"],\n",
    "                [\"mass\", \"last\"],\n",
    "                [\"tapper\", \"patter\"]]\n",
    "    for pair in lst:\n",
    "        assert not is_anagram(pair[0], pair[1])  \n",
    "        \n",
    "    # Test a word is not an anagram of itself\n",
    "    lst =  [[\"good\", \"good\"],\n",
    "                [\"BANANA\", \"Banana\"]]\n",
    "    for pair in lst:\n",
    "        assert not is_anagram(pair[0], pair[1])\n",
    "        \n",
    "    print(\"Pass\")\n",
    "    \n",
    "test_anagram()"
   ]
  },
  {
   "cell_type": "markdown",
   "metadata": {},
   "source": [
    "# 3) Merge\n",
    "\n",
    "Write a function that takes two strings representing sorted lists, \n",
    "and returns a sorted list of the merged values.  \n",
    "\n",
    "merge('[1, 3, 4]', '[2, 4, 6]') should return [1, 2, 3, 4, 4, 6]\n"
   ]
  },
  {
   "cell_type": "code",
   "execution_count": 5,
   "metadata": {},
   "outputs": [],
   "source": [
    "# merge.py\n",
    "#\n",
    "# Takes two strings representing sorted lists, and returns a sorted list\n",
    "# of the merged values.\n",
    "# Usage:\n",
    "#      % merge.py\n",
    "#\n",
    "# Anastasia Erofeeva\n",
    "# 11/10/19\n",
    "\n",
    "\n",
    "from typing import List\n",
    "\n",
    "\n",
    "def merge(s1: str, s2: str) -> List:\n",
    "    \"\"\"Take two strings representing sorted lists\n",
    "       Return a list holding the merged values\"\"\"\n",
    "    \n",
    "    # Empty list to store results\n",
    "    res = []\n",
    "    \n",
    "    # Convert the strings representing lists into lists\n",
    "    lst1 = eval(s1)\n",
    "    lst2 = eval(s2)\n",
    "    \n",
    "    # Find which list is longer\n",
    "    long = find_longest_list(lst1, lst2)\n",
    "    \n",
    "    # While both lists are not empty\n",
    "    while len(lst1) > 0 and len(lst2) > 0:\n",
    "        \n",
    "        # Find which list has smallest remaining element, append first\n",
    "        # element from that list to results and remove element from list\n",
    "        lst = find_smallest_value(lst1, lst2)\n",
    "        res.append(lst[0])\n",
    "        lst.pop(0)\n",
    "    \n",
    "    # Append remaining elements from longer list to results\n",
    "    for remaining in long:\n",
    "        res.append(remaining)\n",
    "\n",
    "    return res\n",
    "\n",
    "\n",
    "def find_smallest_value(l1: List, l2: List) -> List:\n",
    "    \"\"\"Take two lists and return the list \n",
    "    that has the smallest remaining element\"\"\"\n",
    "    \n",
    "    # If first element of list 1 is less than or equal to \n",
    "    # first element of list 2, return list 1\n",
    "    if l1[0] <= l2[0]:\n",
    "        return l1\n",
    "    \n",
    "    # Otherwise, return list 2\n",
    "    else:\n",
    "        return l2\n",
    "\n",
    "    \n",
    "def find_longest_list(l1: List, l2: List) -> List:\n",
    "    \"\"\"Take two lists and return the list that is longer\"\"\"\n",
    "    \n",
    "    # If length of list 1 is greater than or equal to \n",
    "    # length of list 2, return list 1\n",
    "    if len(l1) >= len(l2):\n",
    "        return l1\n",
    "    \n",
    "    # Otherwise, return list 2\n",
    "    else:\n",
    "        return l2"
   ]
  },
  {
   "cell_type": "markdown",
   "metadata": {},
   "source": [
    "## Unit Tests for merge"
   ]
  },
  {
   "cell_type": "code",
   "execution_count": 6,
   "metadata": {},
   "outputs": [
    {
     "name": "stdout",
     "output_type": "stream",
     "text": [
      "Pass\n"
     ]
    }
   ],
   "source": [
    "def test_merge():\n",
    "    s1, s2 = '[1, 3, 4]', '[2, 5, 6, 7, 8]'\n",
    "    result = merge(s1, s2)\n",
    "    expected = [1, 2, 3, 4, 5, 6, 7, 8]\n",
    "    assert (result == expected)\n",
    "\n",
    "    s1, s2 = '[\"one\", \"three\", \"two\"]', \"['five', 'four', 'six']\"       \n",
    "    result = merge(s1, s2)        \n",
    "    expected = ['five', 'four', 'one', 'six', 'three', 'two']\n",
    "    assert (result == expected)\n",
    "\n",
    "    s1, s2 = '[1, 3, 4]', '[]'\n",
    "    result = merge(s1, s2)\n",
    "    expected = [1, 3, 4]\n",
    "    assert (result == expected)\n",
    "\n",
    "    s2, s1 = '[1, 3, 4]', '[]'\n",
    "    result = merge(s1, s2)\n",
    "    expected = [1, 3, 4]\n",
    "    assert (result == expected)\n",
    "\n",
    "    print('Pass')\n",
    "\n",
    "test_merge()"
   ]
  },
  {
   "cell_type": "markdown",
   "metadata": {},
   "source": [
    "# 4) People\n",
    "\n",
    "Person is a class that defines a citizen with a name.\n",
    "Students and Employees are subclasses of Persons.\n",
    "\n",
    "You will need to redefine, or override, methods for the subclasses to make the tests below pass."
   ]
  },
  {
   "cell_type": "code",
   "execution_count": 7,
   "metadata": {},
   "outputs": [],
   "source": [
    "# Person.py\n",
    "#\n",
    "# Defines Person (a citizen with a name), \n",
    "# Student (a Person with a school and id), \n",
    "# and Employee (a Person with a company and id).\n",
    "# Usage:\n",
    "#      % Person.py\n",
    "#\n",
    "# Anastasia Erofeeva\n",
    "# 11/10/19\n",
    "#\n",
    "# I got the idea to use type() to check \n",
    "# if objects are instances of the same class from: \n",
    "# https://stackoverflow.com/questions/2225038/determine-the-type-of-an-object\n",
    "\n",
    "class Person:\n",
    "    \"People have a first and last name\"\n",
    "    \n",
    "    def __init__(self, first, last):\n",
    "        self.firstname = first.capitalize()\n",
    "        self.lastname = last.capitalize()\n",
    "\n",
    "    def __str__(self):\n",
    "        return self.firstname + \" \" + self.lastname\n",
    "\n",
    "    def __eq__(self, other):\n",
    "        # If objects self and other are not instances of the same class,\n",
    "        # return False\n",
    "        if type(self) != type(other):\n",
    "            return False\n",
    "        return (self.firstname == other.firstname) and (self.lastname == other.lastname)\n",
    "    \n",
    "    # Return whether or not object self is an instance of Employee class\n",
    "    def is_employed(self):\n",
    "        return isinstance(self, Employee)\n",
    "\n",
    "\n",
    "class Student(Person):\n",
    "    \"Person who is a student\"\n",
    "\n",
    "    def __init__(self, first, last, school, id):\n",
    "        # Call Superclass to set common information\n",
    "        super().__init__(first, last)\n",
    "        self.school = school\n",
    "        self.id = id\n",
    "\n",
    "    def __str__(self):\n",
    "        # Call Superclass to dispaly common information\n",
    "        return super().__str__() + \", \" + str(self.id) + ' at ' + self.school\n",
    "\n",
    "    def __eq__(self, other):\n",
    "        # Call Superclass to compare if objects are instances of the same\n",
    "        # class and if objects have same first and last name.\n",
    "        # Then compare objects by id and school\n",
    "        return super().__eq__(other) and (self.id == other.id) and (self.school == other.school)\n",
    "\n",
    "    \n",
    "class Employee(Person):\n",
    "    \"Person who is employed\"\n",
    "    \n",
    "    def __init__(self, first, last, company, id):\n",
    "        # Call Superclass to set common information\n",
    "        super().__init__(first, last)\n",
    "        self.company = company\n",
    "        self.id = id\n",
    "    \n",
    "    def __str__(self):\n",
    "        # Call Superclass to dispaly common information\n",
    "        return super().__str__() + \", \" + str(self.id) + ' at ' + self.company \n",
    "        \n",
    "    def __eq__(self, other):\n",
    "        # Call Superclass to compare if objects are instances of the same\n",
    "        # class and if objects have same first and last name.\n",
    "        # Then compare objects by id and company\n",
    "        return super().__eq__(other) and (self.id == other.id) and (self.company == other.company)"
   ]
  },
  {
   "cell_type": "markdown",
   "metadata": {},
   "source": [
    "## Unit Tests for Person"
   ]
  },
  {
   "cell_type": "code",
   "execution_count": 8,
   "metadata": {},
   "outputs": [
    {
     "name": "stdout",
     "output_type": "stream",
     "text": [
      "Pass\n"
     ]
    }
   ],
   "source": [
    "def test_person():\n",
    "    # People\n",
    "    man1 = Person(\"Homer\", \"Simpson\")\n",
    "    man2 = Person(\"homer\", \"simpson\")\n",
    "    assert man1 == man2\n",
    "    assert not man1.is_employed()\n",
    "    assert man1.__str__() == 'Homer Simpson'\n",
    "    assert man2.__str__() == 'Homer Simpson'\n",
    "    \n",
    "    # Students\n",
    "    woman1 = Student(\"Marge\", \"Simpson\", 'Simmons', 107)\n",
    "    woman2 = Student(\"Marge\", \"Simpson\", 'Wheelock', 153)\n",
    "    assert woman1.__str__() == \"Marge Simpson, 107 at Simmons\"\n",
    "    assert woman2.__str__() == \"Marge Simpson, 153 at Wheelock\"\n",
    "    assert not woman1 == woman2\n",
    "\n",
    "    # Employees\n",
    "    moe1 = Employee(\"Moe\", \"Szyslak\", 'Tavern', 153)\n",
    "    assert moe1.__str__() == \"Moe Szyslak, 153 at Tavern\"\n",
    "    assert not moe1 == woman2\n",
    "\n",
    "    moe = Employee(\"Moe\", \"Szyslak\", 'Tavern', 153)\n",
    "    assert moe.__str__() == \"Moe Szyslak, 153 at Tavern\"\n",
    "    assert not moe == woman2\n",
    "\n",
    "    waylon = Employee(\"Waylon\", \"Smithers\", \"Springfield Power\", 2)\n",
    "    assert not moe == waylon\n",
    "   \n",
    "    # Cross Check\n",
    "    moe2 = Student(\"Moe\", \"Szyslak\", 'BC', 153)\n",
    "    assert moe2.__str__() == \"Moe Szyslak, 153 at BC\"\n",
    "    assert not moe == moe2\n",
    "    assert not moe2 == moe\n",
    "\n",
    "    print(\"Pass\")\n",
    "    \n",
    "test_person()"
   ]
  },
  {
   "cell_type": "code",
   "execution_count": null,
   "metadata": {},
   "outputs": [],
   "source": []
  }
 ],
 "metadata": {
  "kernelspec": {
   "display_name": "Python 3",
   "language": "python",
   "name": "python3"
  },
  "language_info": {
   "codemirror_mode": {
    "name": "ipython",
    "version": 3
   },
   "file_extension": ".py",
   "mimetype": "text/x-python",
   "name": "python",
   "nbconvert_exporter": "python",
   "pygments_lexer": "ipython3",
   "version": "3.7.3"
  }
 },
 "nbformat": 4,
 "nbformat_minor": 2
}
