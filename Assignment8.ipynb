{
 "cells": [
  {
   "cell_type": "markdown",
   "metadata": {},
   "source": [
    "# Homework 8 version 1"
   ]
  },
  {
   "cell_type": "markdown",
   "metadata": {},
   "source": [
    "### Your Name: "
   ]
  },
  {
   "cell_type": "code",
   "execution_count": null,
   "metadata": {},
   "outputs": [],
   "source": [
    "first_name = \"Anastasia\"\n",
    "last_name = \"Erofeeva\"\n",
    "\n",
    "assert(len(first_name) != 0)\n",
    "assert(len(last_name)  != 0)"
   ]
  },
  {
   "cell_type": "markdown",
   "metadata": {},
   "source": [
    "# Change Letter\n",
    "Write a function that replaces a letter in a word at the given index.  For example, we replace the first letter with 'c' below. \n",
    "\n",
    "change_letter('bat', 0, 'c') returns 'cat'"
   ]
  },
  {
   "cell_type": "code",
   "execution_count": 1,
   "metadata": {},
   "outputs": [],
   "source": [
    "# change_letter.py\n",
    "#\n",
    "# Replaces a letter in a word at the given index\n",
    "# Usage:\n",
    "#      % python change_letter.py\n",
    "#\n",
    "# Anastasia Erofeeva\n",
    "# 10/24/19\n",
    "\n",
    "\n",
    "def change_letter(word: str, pos: int, ch: str) -> str:\n",
    "    \"Change the letter in position 'pos' to 'ch'\"\n",
    "    \n",
    "    # Slice original word based on given position 'pos', \n",
    "    # concatenate slices with given letter 'ch' and \n",
    "    # return new word in lowercase\n",
    "    \n",
    "    return (word[0:pos] + ch + word[pos+1:]).lower()"
   ]
  },
  {
   "cell_type": "markdown",
   "metadata": {},
   "source": [
    "## Unit tests for Change Letter"
   ]
  },
  {
   "cell_type": "code",
   "execution_count": 2,
   "metadata": {},
   "outputs": [
    {
     "name": "stdout",
     "output_type": "stream",
     "text": [
      "Pass\n"
     ]
    }
   ],
   "source": [
    "def test_change_letter():\n",
    "    assert(change_letter('cat', 0, 'b') == 'bat')\n",
    "    assert(change_letter('port', 3, 'c') == 'porc')\n",
    "    assert(change_letter('cast', 2, 'r') == 'cart')\n",
    "    \n",
    "    print('Pass')\n",
    "    \n",
    "test_change_letter()"
   ]
  },
  {
   "cell_type": "markdown",
   "metadata": {},
   "source": [
    "# One Step\n",
    "\n",
    "Write a function that takes a word and returns a list with\n",
    "all possible edits to the word that change a single letter.\n",
    "Your list should be sorted.  \n",
    "\n",
    "That is, return all lower case strings Hamming distance 1 from the word.\n"
   ]
  },
  {
   "cell_type": "code",
   "execution_count": 3,
   "metadata": {},
   "outputs": [],
   "source": [
    "# one_step.py\n",
    "#\n",
    "# Takes a word and returns a sorted list with all possible edits to the word\n",
    "# that change a single letter\n",
    "# Usage:\n",
    "#      % python one_step.py\n",
    "#\n",
    "# Anastasia Erofeeva\n",
    "# 10/24/19\n",
    "\n",
    "\n",
    "from typing import List\n",
    "\n",
    "def one_step(word: str) -> List[str]:\n",
    "    \"Return all lower case strings Hamming Distance 1 away\"\n",
    "    \n",
    "    # Convert word to lowercase\n",
    "    word = word.lower()\n",
    "    \n",
    "    # Empty list to store results\n",
    "    result = []\n",
    "    \n",
    "    # Compare the character at each index of word to each letter of \n",
    "    # the alphabet, and if they are not the same, replace the character \n",
    "    # at that index of word with the letter, and add the new word to a list\n",
    "    for i in range(len(word)):\n",
    "        for letter in 'abcdefghijklmnopqrstuvwxyz':\n",
    "            if letter != word[i]:\n",
    "                result.append(word[:i] + letter + word[i+1:])\n",
    "                \n",
    "    # Return sorted list\n",
    "    return sorted(result)"
   ]
  },
  {
   "cell_type": "markdown",
   "metadata": {},
   "source": [
    "## Unit Test for one_step"
   ]
  },
  {
   "cell_type": "code",
   "execution_count": 4,
   "metadata": {},
   "outputs": [
    {
     "name": "stdout",
     "output_type": "stream",
     "text": [
      "Pass\n"
     ]
    }
   ],
   "source": [
    "def test_one_step():\n",
    "    assert(one_step('aa') == ['ab', 'ac', 'ad', 'ae', 'af', 'ag', 'ah', 'ai', 'aj', 'ak', 'al', 'am', 'an', 'ao', 'ap', 'aq', 'ar', 'as', 'at', 'au', 'av', 'aw', 'ax', 'ay', 'az', 'ba', 'ca', 'da', 'ea', 'fa', 'ga', 'ha', 'ia', 'ja', 'ka', 'la', 'ma', 'na', 'oa', 'pa', 'qa', 'ra', 'sa', 'ta', 'ua', 'va', 'wa', 'xa', 'ya', 'za'])\n",
    "    assert(one_step('cat') == ['aat', 'bat', 'caa', 'cab', 'cac', 'cad', 'cae', 'caf', 'cag', 'cah', 'cai', 'caj', 'cak', 'cal', 'cam', 'can', 'cao', 'cap', 'caq', 'car', 'cas', 'cau', 'cav', 'caw', 'cax', 'cay', 'caz', 'cbt', 'cct', 'cdt', 'cet', 'cft', 'cgt', 'cht', 'cit', 'cjt', 'ckt', 'clt', 'cmt', 'cnt', 'cot', 'cpt', 'cqt', 'crt', 'cst', 'ctt', 'cut', 'cvt', 'cwt', 'cxt', 'cyt', 'czt', 'dat', 'eat', 'fat', 'gat', 'hat', 'iat', 'jat', 'kat', 'lat', 'mat', 'nat', 'oat', 'pat', 'qat', 'rat', 'sat', 'tat', 'uat', 'vat', 'wat', 'xat', 'yat', 'zat'])\n",
    "    assert(one_step('dog') == ['aog', 'bog', 'cog', 'dag', 'dbg', 'dcg', 'ddg', 'deg', 'dfg', 'dgg', 'dhg', 'dig', 'djg', 'dkg', 'dlg', 'dmg', 'dng', 'doa', 'dob', 'doc', 'dod', 'doe', 'dof', 'doh', 'doi', 'doj', 'dok', 'dol', 'dom', 'don', 'doo', 'dop', 'doq', 'dor', 'dos', 'dot', 'dou', 'dov', 'dow', 'dox', 'doy', 'doz', 'dpg', 'dqg', 'drg', 'dsg', 'dtg', 'dug', 'dvg', 'dwg', 'dxg', 'dyg', 'dzg', 'eog', 'fog', 'gog', 'hog', 'iog', 'jog', 'kog', 'log', 'mog', 'nog', 'oog', 'pog', 'qog', 'rog', 'sog', 'tog', 'uog', 'vog', 'wog', 'xog', 'yog', 'zog'])\n",
    "\n",
    "    print('Pass')\n",
    "    \n",
    "test_one_step()"
   ]
  },
  {
   "cell_type": "markdown",
   "metadata": {},
   "source": [
    "# One Step Words\n",
    "\n",
    "Write a function that takes a string, and returns a sorted \n",
    "list with all words from Downey's word list /course/data/words.txt that are Hamming Distance 1\n",
    "away. "
   ]
  },
  {
   "cell_type": "code",
   "execution_count": 7,
   "metadata": {},
   "outputs": [],
   "source": [
    "# one_step_word.py\n",
    "#\n",
    "# Takes a string and returns a sorted list with all words from Downey's word\n",
    "# list that are Hamming Distance 1 away\n",
    "# Usage:\n",
    "#      % python one_step_word.py\n",
    "#\n",
    "# Anastasia Erofeeva\n",
    "# 10/24/19\n",
    "\n",
    "\n",
    "from typing import List\n",
    "\n",
    "def one_step_words(word: str) -> List[str]:\n",
    "    \"Return all words Hamming Distance 1 from word\"\n",
    "    \n",
    "    # List of lower case words that are Hamming Distance 1 away from word\n",
    "    hamming1 = one_step(word)\n",
    "    \n",
    "    # Empty list to store words from Downey's list that are \n",
    "    # Hamming Distance 1 away\n",
    "    result = [] \n",
    "    \n",
    "    # Open file\n",
    "    with open('words.txt') as f:\n",
    "        \n",
    "        # Get list of words from file\n",
    "        words = f.readlines()\n",
    "        \n",
    "        # For every word in list of words from file\n",
    "        for word in words:\n",
    "        \n",
    "            # Remove whitespace and \\n characters\n",
    "            word = word.strip()\n",
    "            \n",
    "            # If word from file is also in list of Hamming 1 words, \n",
    "            # add word to result list\n",
    "            if word in hamming1:\n",
    "                result.append(word)\n",
    "                \n",
    "    return result\n",
    "\n",
    "\n",
    "def one_step(word: str) -> List[str]:\n",
    "    \"Return all lower case strings Hamming Distance 1 away\"\n",
    "    \n",
    "    # Convert word to lowercase\n",
    "    word = word.lower()\n",
    "    \n",
    "    # Empty list to store results\n",
    "    result = []\n",
    "    \n",
    "    # Compare the character at each index of word to each letter of \n",
    "    # the alphabet, and if they are not the same, replace the character \n",
    "    # at that index of word with the letter, and add the new word to a list\n",
    "    for i in range(len(word)):\n",
    "        for letter in 'abcdefghijklmnopqrstuvwxyz':\n",
    "            if letter != word[i]:\n",
    "                result.append(word[:i] + letter + word[i+1:])\n",
    "                \n",
    "    # Return sorted list\n",
    "    return sorted(result)"
   ]
  },
  {
   "cell_type": "markdown",
   "metadata": {},
   "source": [
    "# Unit Tests"
   ]
  },
  {
   "cell_type": "code",
   "execution_count": 8,
   "metadata": {},
   "outputs": [
    {
     "name": "stdout",
     "output_type": "stream",
     "text": [
      "Pass\n"
     ]
    }
   ],
   "source": [
    "def test_one_step_words():\n",
    "    assert(one_step_words('cat') == ['bat', 'cab', 'cad', 'cam', 'can', 'cap', 'car', 'caw', 'cay', 'cot', 'cut', 'eat', 'fat', 'gat', 'hat', 'kat', 'lat', 'mat', 'oat', 'pat', 'rat', 'sat', 'tat', 'vat', 'wat'])\n",
    "    assert(one_step_words('tall') == ['ball', 'call', 'fall', 'gall', 'hall', 'lall', 'mall', 'pall', 'sall', 'tael', 'tail', 'tala', 'talc', 'tale', 'tali', 'talk', 'tell', 'till', 'toll', 'wall'])\n",
    "    assert(one_step_words('wax') == ['fax', 'lax', 'pax', 'rax', 'sax', 'tax', 'wab', 'wad', 'wae', 'wag', 'wan', 'wap', 'war', 'was', 'wat', 'waw', 'way', 'zax'])\n",
    "    \n",
    "    print('Pass')\n",
    "    \n",
    "test_one_step_words()"
   ]
  },
  {
   "cell_type": "markdown",
   "metadata": {},
   "source": [
    "# Compare Lists\n",
    "\n",
    "You will be given two strings that hold lists.\n",
    "\n",
    "Use the Python function eval() to turn the strings into lists,\n",
    "and return a sorted list holding elements found in both lists.\n",
    "\n",
    "Eval of the string '[1, 2, 3]' returns the list [1, 2, 3].\n",
    "\n",
    "compare_lsts('[1, 2, 3, 4]', '[2, 4, 6']) should return the list [2, 4].  "
   ]
  },
  {
   "cell_type": "code",
   "execution_count": 9,
   "metadata": {},
   "outputs": [],
   "source": [
    "# compare_lists.py\n",
    "#\n",
    "# Takes two strings that hold lists, turns the strings into lists, \n",
    "# and returns a sorted list holding elements found in both lists\n",
    "# Usage:\n",
    "#      % python compare_lists.py\n",
    "#\n",
    "# Anastasia Erofeeva\n",
    "# 10/24/19\n",
    "\n",
    "\n",
    "from typing import List\n",
    "\n",
    "def compare_lists(s1: str, s2: str) -> List:\n",
    "    \"What items are on both lists?\"\n",
    "    \n",
    "    # Turn both strings into lists\n",
    "    lst1 = eval(s1)\n",
    "    lst2 = eval(s2)\n",
    "    \n",
    "    # Empty set to store results, so that there are no duplicates\n",
    "    result = {}\n",
    "    \n",
    "    # If first list is longer, loop through first list and check \n",
    "    # if any items are also in second list\n",
    "    if len(lst1) >= len(lst2):\n",
    "        result = {item for item in lst1 if item in lst2}\n",
    "    \n",
    "    # Otherwise, loop through second list and check if any items\n",
    "    # are also in first list\n",
    "    else:\n",
    "        result = {item for item in lst2 if item in lst1}\n",
    "        \n",
    "    # Convert set to list, sort list, and return result\n",
    "    return sorted(list(result))"
   ]
  },
  {
   "cell_type": "markdown",
   "metadata": {},
   "source": [
    "## Unit tests for compare lists"
   ]
  },
  {
   "cell_type": "code",
   "execution_count": 10,
   "metadata": {},
   "outputs": [
    {
     "name": "stdout",
     "output_type": "stream",
     "text": [
      "Pass\n"
     ]
    }
   ],
   "source": [
    "def test_one_step():\n",
    "   assert(compare_lists('[1, 3, 2]', '[3, 2, 1]') == [1, 2, 3])\n",
    "   assert(compare_lists('[\"one\", \"two\", \"three\"]', \"[3, 'one', 1]\") == ['one'])\n",
    "   assert(compare_lists('[5 + 2, 3 + 6, 2 + 1]', \"[7, 6, 3]\") == [3, 7])\n",
    "    \n",
    "   print('Pass')\n",
    "\n",
    "test_one_step()"
   ]
  },
  {
   "cell_type": "markdown",
   "metadata": {},
   "source": [
    "# Time After Time\n",
    "\n",
    "Take Downey's Time2 class and make the following changes. \n",
    "\n",
    "A) Rewrite the \"\\_\\_str\\_\\_\" method used to print the time.  \n",
    "It currently would print (17, 30, 0) as\n",
    "\n",
    "    17:30:00\n",
    "    \n",
    "Modify it to return \n",
    "\n",
    "    5:30 PM\n",
    "    \n",
    "Hours are numbers between 1 and 12 inclusive, seconds are suppressed, and times end with AM or PM.  \n",
    "There should be no extra space at head of tail of string.  \n",
    "For purposes of this problem, midnight is AM, while noon is PM.  \n",
    "\n",
    "B) Time2.py currently allows you to create times with hours greater than 23.\n",
    "\n",
    "Identify the routines that Downey provides that would have to change to keep hours less than 24, and make the changes required to modify hours greater than 24.  Time(49, 70, 80) should yield an object representing 1:10 AM.  \n",
    "\n",
    "## Here is your starting point\n",
    "### List the changes you made below"
   ]
  },
  {
   "cell_type": "code",
   "execution_count": 11,
   "metadata": {},
   "outputs": [],
   "source": [
    "# Time2.py\n",
    "#\n",
    "# Downey's Time2 class with changes to how time is displayed\n",
    "# Usage:\n",
    "#      % Time2.py\n",
    "#\n",
    "# Anastasia Erofeeva\n",
    "# 10/26/19\n",
    "\n",
    "\n",
    "\"\"\"\n",
    "\n",
    "Code example from Think Python, by Allen B. Downey.\n",
    "Available from http://thinkpython.com\n",
    "\n",
    "Copyright 2012 Allen B. Downey.\n",
    "Distributed under the GNU General Public License at gnu.org/licenses/gpl.html.\n",
    "\n",
    "\"\"\"\n",
    "\n",
    "class Time(object):\n",
    "    \"\"\"Represents the time of day.\n",
    "       \n",
    "    attributes: hour, minute, second\n",
    "    \"\"\"\n",
    "    def __init__(self, hour=0, minute=0, second=0):\n",
    "        \n",
    "        # Hours given, before doing hour % 12\n",
    "        self.totalHours = hour\n",
    "        \n",
    "        # Reduce hour mod 12, so self.hour is always between 0 and 11\n",
    "        self.hour = hour % 12\n",
    "        \n",
    "        # If hour given is 0 or 12, set self.hour to 12\n",
    "        if hour == 0 or hour == 12:\n",
    "            self.hour = 12\n",
    "        \n",
    "        # Reduce minute mod 60, so self.minute is always between 0 and 59\n",
    "        self.minute = minute % 60\n",
    "        \n",
    "        # Reduce second mod 60, so self.second is always between 0 and 59\n",
    "        self.second = second % 60\n",
    "\n",
    "    def __str__(self):\n",
    "        \n",
    "        # Find number of 12-hour increments in totalHours\n",
    "        twelve = self.totalHours // 12\n",
    "        \n",
    "        # Empty string to store 'AM' or 'PM'\n",
    "        am_or_pm = ''\n",
    "        \n",
    "        # If number of 12-hour increments is even, it's AM\n",
    "        if twelve % 2 == 0:\n",
    "            am_or_pm = 'AM'\n",
    "        \n",
    "        # Otherwise, it's PM\n",
    "        else:\n",
    "            am_or_pm = 'PM'\n",
    "            \n",
    "        return '%.1d:%.2d %s' % (self.hour, self.minute, am_or_pm)\n",
    "\n",
    "    def print_time(self):\n",
    "        print(str(self))\n",
    "\n",
    "    def time_to_int(self):\n",
    "        \"\"\"Computes the number of seconds since midnight.\"\"\"\n",
    "        minutes = self.hour * 60 + self.minute\n",
    "        seconds = minutes * 60 + self.second\n",
    "        return seconds\n",
    "\n",
    "    def is_after(self, other):\n",
    "        \"\"\"Returns True if t1 is after t2; false otherwise.\"\"\"\n",
    "        return self.time_to_int() > other.time_to_int()\n",
    "\n",
    "    def __add__(self, other):\n",
    "        \"\"\"Adds two Time objects or a Time object and a number.\n",
    "\n",
    "        other: Time object or number of seconds\n",
    "        \"\"\"\n",
    "        if isinstance(other, Time):\n",
    "            return self.add_time(other)\n",
    "        else:\n",
    "            return self.increment(other)\n",
    "\n",
    "    def __radd__(self, other):\n",
    "        \"\"\"Adds two Time objects or a Time object and a number.\"\"\"\n",
    "        return self.__add__(other)\n",
    "\n",
    "    def add_time(self, other):\n",
    "        \"\"\"Adds two time objects.\"\"\"\n",
    "        assert self.is_valid() and other.is_valid()\n",
    "        seconds = self.time_to_int() + other.time_to_int()\n",
    "        return int_to_time(seconds)\n",
    "\n",
    "    def increment(self, seconds):\n",
    "        \"\"\"Returns a new Time that is the sum of this time and seconds.\"\"\"\n",
    "        seconds += self.time_to_int()\n",
    "        return int_to_time(seconds)\n",
    "\n",
    "    def is_valid(self):\n",
    "        \"\"\"Checks whether a Time object satisfies the invariants.\"\"\"\n",
    "        if self.hour < 0 or self.minute < 0 or self.second < 0:\n",
    "            return False\n",
    "        if self.minute >= 60 or self.second >= 60:\n",
    "            return False\n",
    "        return True\n",
    "\n",
    "\n",
    "def int_to_time(seconds):\n",
    "    \"\"\"Makes a new Time object.\n",
    "\n",
    "        seconds: int seconds since midnight.\n",
    "        \"\"\"\n",
    "    minutes, second = divmod(seconds, 60)\n",
    "    hour, minute = divmod(minutes, 60)\n",
    "    time = Time(hour, minute, second)\n",
    "    return time"
   ]
  },
  {
   "cell_type": "markdown",
   "metadata": {},
   "source": [
    "## List of changes"
   ]
  },
  {
   "cell_type": "code",
   "execution_count": 12,
   "metadata": {},
   "outputs": [],
   "source": [
    "### Enter the line number and your changes below\n",
    "\n",
    "# Changes to __init__ method:\n",
    "# 29: Added a new attribute called totalHours to keep track of hour given (before doing hour % 12)\n",
    "# 32: Reduced hour mod 12, so that self.hour is always between 0 and 11\n",
    "# 35-36: Added a condition where if hour given is 0 or 12, set self.hour equal to 12\n",
    "# 39: Reduced minute mod 60, so that self.minute is always between 0 and 59\n",
    "# 42: Reduced second mod 60, so that self.second is always between 0 and 59\n",
    "\n",
    "# Changes to __str__ method:\n",
    "# 47: Used integer division to find how many 12-hour increments there are in self.totalHours\n",
    "# 50: Created an empty string to store 'AM' or 'PM'\n",
    "# 53-54: Added a condition where if number of 12-hour increments in self.totalHours is even, string is 'AM'\n",
    "# 57-58: Otherwise, if number of 12-hour increments in self.totalHours is odd, string is 'PM'\n",
    "# 60: Updated the return string to print hours, minutes, and 'AM' or 'PM'"
   ]
  },
  {
   "cell_type": "markdown",
   "metadata": {},
   "source": [
    "#### Unit Tests"
   ]
  },
  {
   "cell_type": "code",
   "execution_count": 13,
   "metadata": {},
   "outputs": [
    {
     "name": "stdout",
     "output_type": "stream",
     "text": [
      "Pass\n"
     ]
    }
   ],
   "source": [
    "def test_time():\n",
    "    assert(Time(0, 0, 0).__str__() == '12:00 AM')\n",
    "    assert(Time(0, 1, 2).__str__() == '12:01 AM')\n",
    "    assert(Time(11, 30, 59).__str__() == '11:30 AM')\n",
    "    assert(Time(12, 0, 3).__str__() == '12:00 PM')\n",
    "    assert(Time(23, 2, 2).__str__() == '11:02 PM')\n",
    "    \n",
    "    assert(Time(25, 45, 00).hour == 1)  \n",
    "    assert(len(Time(25, 45, 00).__str__()) == 7)\n",
    "    assert(Time(25, 45, 00).__str__() == '1:45 AM')\n",
    "    \n",
    "    print('Pass')\n",
    "    \n",
    "test_time()"
   ]
  },
  {
   "cell_type": "code",
   "execution_count": null,
   "metadata": {},
   "outputs": [],
   "source": []
  }
 ],
 "metadata": {
  "kernelspec": {
   "display_name": "Python 3",
   "language": "python",
   "name": "python3"
  },
  "language_info": {
   "codemirror_mode": {
    "name": "ipython",
    "version": 3
   },
   "file_extension": ".py",
   "mimetype": "text/x-python",
   "name": "python",
   "nbconvert_exporter": "python",
   "pygments_lexer": "ipython3",
   "version": "3.7.3"
  }
 },
 "nbformat": 4,
 "nbformat_minor": 1
}
