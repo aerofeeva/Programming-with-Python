{
 "cells": [
  {
   "cell_type": "markdown",
   "metadata": {},
   "source": [
    "##### CS 7 - Assignment 6\n",
    "\n",
    "## Jeff Parker  \n",
    "## Oct 15 2019"
   ]
  },
  {
   "cell_type": "markdown",
   "metadata": {},
   "source": [
    "# How many\n",
    "\n",
    "Write a function that takes a list with an integer and a noun, and returns a sentence describing the situation.\n",
    "\n",
    "If there is more than one, try to make the noun plural by adding 's'.  \n",
    "\n",
    "def how_many(lst: List) -> str:\n",
    "\n",
    "Here are some sample uses\n",
    "\n",
    "how_many([6, \"TF\"])\n",
    "should return\n",
    "\n",
    "'There are 6 TFs'\n",
    "while\n",
    "\n",
    "how_many([1, 'policeman'])\n",
    "should return\n",
    "\n",
    "'There is 1 policeman'\n",
    "and \n",
    "\n",
    "how_many([2, 'policeman'])\n",
    "should return \n",
    "\n",
    "'There are 2 policemans'"
   ]
  },
  {
   "cell_type": "code",
   "execution_count": 1,
   "metadata": {},
   "outputs": [],
   "source": [
    "# how_many.py\n",
    "#\n",
    "# Takes a list with an integer and a noun, and returns a sentence with\n",
    "# the integer and noun.\n",
    "# Usage:\n",
    "#      % python how_many.py\n",
    "#\n",
    "# Anastasia Erofeeva\n",
    "# 10/09/19\n",
    "#\n",
    "# I found the syntax for how to throw an exception for an empty list \n",
    "# in the Day7 Notebook.\n",
    "\n",
    "from typing import List\n",
    "\n",
    "def how_many(lst: List) -> str:\n",
    "    \"How many are there?\"\n",
    "    \n",
    "    # If list is empty, throw exception\n",
    "    if len(lst) == 0:\n",
    "        raise ValueError(\"Empty list\")\n",
    "    \n",
    "    integer = lst[0]        # First item in list is integer\n",
    "    noun = lst[1]           # Second item in list is noun\n",
    "    sentence = 'There '     # Sentence starts with string 'There '\n",
    "    \n",
    "    # If integer is 0 or greater than 1\n",
    "    if integer == 0 or integer > 1:\n",
    "        \n",
    "        # Add 'are ' to sentence\n",
    "        sentence += 'are '\n",
    "        \n",
    "        # Add 's' to noun to make it plural\n",
    "        noun += 's'\n",
    "    \n",
    "    # If integer is 1\n",
    "    else:\n",
    "        \n",
    "        # Add 'is ' to sentence\n",
    "        sentence += 'is '\n",
    "    \n",
    "    # Add integer, space, and noun to sentence\n",
    "    sentence += str(integer) + ' ' + noun  \n",
    "    return sentence"
   ]
  },
  {
   "cell_type": "markdown",
   "metadata": {},
   "source": [
    "## Unit Tests for How Many"
   ]
  },
  {
   "cell_type": "code",
   "execution_count": 2,
   "metadata": {},
   "outputs": [
    {
     "name": "stdout",
     "output_type": "stream",
     "text": [
      "Passed\n"
     ]
    }
   ],
   "source": [
    "def test_how_many(): \n",
    "    lst = [3, 'dog']\n",
    "    expr = lst[:]\n",
    "    result = how_many(lst)\n",
    "    expected = 'There are 3 dogs'\n",
    "    assert (result == expected), f'{expr} - Expected {expected}; got {result}'\n",
    "\n",
    "    lst = [6, 'cat']\n",
    "    expr = lst[:]\n",
    "    result = how_many(lst)\n",
    "    expected = 'There are 6 cats'\n",
    "    assert (result == expected), f'{expr} - Expected {expected}; got {result}'\n",
    "\n",
    "    lst = [1, 'Cher']\n",
    "    expr = lst[:]\n",
    "    result = how_many(lst)\n",
    "    expected = 'There is 1 Cher'\n",
    "    assert (result == expected), f'{expr} - Expected {expected}; got {result}'\n",
    "    \n",
    "    print(\"Passed\")\n",
    "    \n",
    "test_how_many()"
   ]
  },
  {
   "cell_type": "markdown",
   "metadata": {},
   "source": [
    "# String to list"
   ]
  },
  {
   "cell_type": "markdown",
   "metadata": {},
   "source": [
    "Write a function that takes a string of comma-separated integers and returns a list of the integers.\n",
    "\n",
    "def strings_to_ints(test: str) -> List[int]:\n",
    "\n",
    "You should be prepared for strings that don't hold legal integers.  Catch the exception when the conversion of a string to in integer fails and produce a meaningful comment.  "
   ]
  },
  {
   "cell_type": "code",
   "execution_count": 3,
   "metadata": {},
   "outputs": [],
   "source": [
    "# string_to_int.py\n",
    "#\n",
    "# Takes a string of comma-separared items and, if all the items in the string\n",
    "# are integers, returns a list of the integers.\n",
    "# Usage:\n",
    "#      % python how_many.py\n",
    "#\n",
    "# Anastasia Erofeeva\n",
    "# 10/10/19\n",
    "\n",
    "\n",
    "from typing import List\n",
    "\n",
    "def strings_to_ints(text: str) -> List[int]:\n",
    "    \"Take a comma-seperated list of integers and return a list of integers\"\n",
    "    \n",
    "    try:        \n",
    "        # Convert string to list, using commas as delimiter\n",
    "        lst = text.split(',')\n",
    "        \n",
    "        # Empty list to store results\n",
    "        res = []\n",
    "        \n",
    "        # If string is not empty\n",
    "        if len(text) != 0:\n",
    "        \n",
    "            # Check each item in list\n",
    "            for item in lst:\n",
    "\n",
    "                # Convert string to integer and append integer to result list\n",
    "                res.append(int(item))\n",
    "\n",
    "        return res\n",
    "\n",
    "    # If the items in the string are not legal integers\n",
    "    except ValueError:\n",
    "        return(\"String must only contain legal integers\")"
   ]
  },
  {
   "cell_type": "markdown",
   "metadata": {},
   "source": [
    "## Unit test for String to List"
   ]
  },
  {
   "cell_type": "code",
   "execution_count": 4,
   "metadata": {},
   "outputs": [
    {
     "name": "stdout",
     "output_type": "stream",
     "text": [
      "String must only contain legal integers\n",
      "Passed\n"
     ]
    }
   ],
   "source": [
    "def test_str_to_list():\n",
    "    s = ''\n",
    "    result = strings_to_ints(s)\n",
    "    expected = []\n",
    "    assert (result == expected), f'{s} - Expected {expected}; got {result}'\n",
    "\n",
    "    s = '1, 3, 5, 7'\n",
    "    result = strings_to_ints(s)\n",
    "    expected = [1, 3, 5, 7]\n",
    "    assert (result == expected), f'{s} - Expected {expected}; got {result}'\n",
    "\n",
    "    s = '3, 1, 4, 1, 5, 9'\n",
    "    result = strings_to_ints(s)\n",
    "    expected = [3, 1, 4, 1, 5, 9]\n",
    "    assert (result == expected), f'{s} - Expected {expected}; got {result}'\n",
    "        \n",
    "    s = 'one, two, three'\n",
    "    result = strings_to_ints(s)\n",
    "    # Expect not to get an assert\n",
    "    print(result)\n",
    "    \n",
    "    print(\"Passed\")\n",
    "\n",
    "        \n",
    "test_str_to_list()"
   ]
  },
  {
   "cell_type": "markdown",
   "metadata": {},
   "source": [
    "# Oxford Comma"
   ]
  },
  {
   "cell_type": "markdown",
   "metadata": {},
   "source": [
    "Students often struggle with the Oxford Comma.  To help them, write a function \n",
    "\n",
    "def oxford_comma(lst: List[str]) -> str:\n",
    "\n",
    "which takes a list of words, and returns a string with a properly punctuated sequence.  "
   ]
  },
  {
   "cell_type": "code",
   "execution_count": 5,
   "metadata": {},
   "outputs": [],
   "source": [
    "# oxford_comma.py\n",
    "#\n",
    "# Takes a list of words and returns a properly punctuated sentence\n",
    "# Usage:\n",
    "#      % python oxford_comma.py\n",
    "#\n",
    "# Anastasia Erofeeva\n",
    "# 10/10/19\n",
    "\n",
    "\n",
    "from typing import List\n",
    "\n",
    "def oxford_comma(lst: List[str]) -> str:\n",
    "    \"Take a list and apply the rules for Oxford Comma\"\n",
    "    \n",
    "    # Empty string to store result\n",
    "    result = \"\"\n",
    "    \n",
    "    # If list has one word, add word to result string\n",
    "    if len(lst) == 1:\n",
    "        result += lst[0]\n",
    "        \n",
    "    # If list has two words, add words separated by \" and \" to result string\n",
    "    if len(lst) == 2:\n",
    "        result += lst[0] + \" and \" + lst[1]\n",
    "        \n",
    "    # If list has more than two words\n",
    "    if len(lst) > 2:\n",
    "        \n",
    "        # Get each word in list\n",
    "        for i in range(len(lst) - 1):\n",
    "            \n",
    "            # Add word and \", \" to result string\n",
    "            result += lst[i] + \", \"\n",
    "            \n",
    "        # Add \"and \" and last word in list to result string\n",
    "        result += \"and \" + lst[-1]\n",
    "    \n",
    "    return result"
   ]
  },
  {
   "cell_type": "markdown",
   "metadata": {},
   "source": [
    "## Unit Tests for Oxford Comma"
   ]
  },
  {
   "cell_type": "code",
   "execution_count": 6,
   "metadata": {},
   "outputs": [
    {
     "name": "stdout",
     "output_type": "stream",
     "text": [
      "Passed\n"
     ]
    }
   ],
   "source": [
    "def test_oxford_comma():\n",
    "    lst = []\n",
    "    cpy = lst[:]\n",
    "    result = oxford_comma(lst)\n",
    "    expected = ''\n",
    "    assert (result == expected), f'{cpy} - Expected {expected}; got {result}'\n",
    "    \n",
    "    lst = ['Hans Solo']\n",
    "    cpy = lst[:]\n",
    "    result = oxford_comma(lst)\n",
    "    expected = 'Hans Solo'\n",
    "    assert (result == expected), f'{cpy} - Expected {expected}; got {result}'\n",
    "    \n",
    "    lst = ['Tom', 'Jerry']\n",
    "    cpy = lst[:]\n",
    "    result = oxford_comma(lst)\n",
    "    expected = 'Tom and Jerry'\n",
    "    assert (result == expected), f'{cpy} - Expected {expected}; got {result}'\n",
    "    \n",
    "    lst = ['my parents', 'Mother Teresa', 'the Pope']\n",
    "    cpy = lst[:]\n",
    "    result = oxford_comma(lst)\n",
    "    expected = 'my parents, Mother Teresa, and the Pope'\n",
    "    assert (result == expected), f'{cpy} - Expected {expected}; got {result}'\n",
    "    \n",
    "    print('Passed')\n",
    "\n",
    "test_oxford_comma()"
   ]
  },
  {
   "cell_type": "markdown",
   "metadata": {},
   "source": [
    "# Check Parenthesis"
   ]
  },
  {
   "cell_type": "markdown",
   "metadata": {},
   "source": [
    " You are given a string consisting only of parentheses - (, ), {, }, [, or ]. Write a function is_valid_parenthesis() that takes a string and decides if it consists of valid nested parenthesis.\n",
    "\n",
    "Hint 1: Your function should take open parentheses, such as '(',  and 'push them on a stack' and should take closing parentheses, such as '}' and pop the stack and compare.  \n",
    "\n",
    "If the close parentheses doesn't match what was on the top of the stack, the string is invalid.  For example, '[ }' is invalid. \n",
    "\n",
    "If the stack is empty when you try to pop, the string is invalid.  For example, \"{}]\" is invalid\n",
    "\n",
    "If the stack is not empty when you finish the string, the string is invalid.  For example, \"{[]\" is invalid.\n",
    "\n",
    "The string \"([{}({}[])])\" is valid.\n",
    "\n",
    "The string \"{()[{}}]\" is not valid.  \n",
    "\n",
    "You can read about stacks here: \n",
    "\n",
    "https://en.wikipedia.org/wiki/Stack_(abstract_data_type)\n",
    "\n",
    "Hint 2: You can use a List called stack to implement a stack: to push an item\n",
    "\n",
    "stack = []\n",
    "item = '{'\n",
    "\n",
    "stack.append(item)\n",
    "\n",
    "\n",
    "To pop an item, \n",
    "\n",
    "item = stack.pop()"
   ]
  },
  {
   "cell_type": "code",
   "execution_count": 7,
   "metadata": {},
   "outputs": [],
   "source": [
    "# parenthesis.py\n",
    "#\n",
    "# Takes a string of parentheses and decides if the parentheses are \n",
    "# nested correctly\n",
    "# Usage:\n",
    "#      % python parenthesis.py\n",
    "#\n",
    "# Anastasia Erofeeva\n",
    "# 10/12/19\n",
    "\n",
    "\n",
    "from typing import List\n",
    "\n",
    "def is_valid_parenthesis(expression: str) -> bool:\n",
    "    \"Is this string a valid set of parenthesis?\"\n",
    "    \n",
    "    # Empty stack to store open parentheses\n",
    "    stack = []\n",
    "\n",
    "    # Check all parentheses in expression\n",
    "    for paren in expression:\n",
    "\n",
    "        # If open parenthesis, push on stack\n",
    "        if paren in '[{(':\n",
    "            stack.append(paren)\n",
    "\n",
    "        # If close parenthesis\n",
    "        elif paren in ']})':\n",
    "\n",
    "            # If stack is empty before trying to pop, return False\n",
    "            if len(stack) == 0:\n",
    "                return False\n",
    "\n",
    "            # Pop open parenthesis from stack\n",
    "            item = stack.pop()\n",
    "\n",
    "            # If open and close parentheses do not match, return False\n",
    "            if (item == '[' and paren != ']' or \n",
    "            item == '{' and paren != '}' or\n",
    "            item == '(' and paren != ')'):\n",
    "                return False\n",
    "\n",
    "    # If stack not empty after finished iterating over string, return False\n",
    "    if len(stack) != 0:\n",
    "        return False\n",
    "\n",
    "    return True"
   ]
  },
  {
   "cell_type": "markdown",
   "metadata": {},
   "source": [
    "## Unit Tests for Check Parenthesis"
   ]
  },
  {
   "cell_type": "code",
   "execution_count": 8,
   "metadata": {},
   "outputs": [
    {
     "name": "stdout",
     "output_type": "stream",
     "text": [
      "Passed\n"
     ]
    }
   ],
   "source": [
    "def test_check_parens():\n",
    "    lst = [\"\", \"[]\", \"{()[{}]}\", \"{}\", \"{[]}\", \"{}[]\", \"([{}({}[])])\"]\n",
    "    for expr in lst:\n",
    "        result = is_valid_parenthesis(expr)\n",
    "        assert (result), f'{expr} - Expected True; got {result}'\n",
    "        \n",
    "    lst = [\"{()[{}}]\", \"[[\", \"}{\", \"{]\", \"{[])\", \"{[)][]}\", \"([{])\", \"[({]})\"]\n",
    "    for expr in lst:\n",
    "        result = is_valid_parenthesis(expr)\n",
    "        assert (not result), f'{expr} - Expected False; got {result}'\n",
    "        \n",
    "    print('Passed')\n",
    "    \n",
    "test_check_parens()"
   ]
  },
  {
   "cell_type": "markdown",
   "metadata": {},
   "source": [
    "# Count Bigrams"
   ]
  },
  {
   "cell_type": "markdown",
   "metadata": {},
   "source": [
    "We return to our Fasta file and explore the distribution of pairs of bases in DNA.  You will count the pairs of bases in /course/data/ecoli.fasta\n",
    "\n",
    "You will find a sample fasta file called sample.fasta in the same directory as your program.  The second line is\n",
    "\n",
    "AGCTTTTCATTCTGACTGCAACGGGCAATATGTCTCTGTGTGGATTAAAAAAAGAGTGTCTGATAGCAGC\n",
    "\n",
    "\n",
    "which has the pairs AG, GC, CT, TT, TT, TT, TC in order, and so on.  \n",
    "\n",
    "Create a dictionary that maps strings to the number of times the string appears.  AA appears 338006 times in the file /course/data/ecoli.fasta\n",
    "\n",
    "Use the printDigrams() function given to display your dictionary.  "
   ]
  },
  {
   "cell_type": "markdown",
   "metadata": {},
   "source": [
    "## Data set\n",
    "### You will need to download the ecoli.fasta data set to test this"
   ]
  },
  {
   "cell_type": "code",
   "execution_count": 9,
   "metadata": {},
   "outputs": [
    {
     "name": "stdout",
     "output_type": "stream",
     "text": [
      "        A       G       C       T \n",
      "A  338006  238013  256773  309950 \n",
      "G  267384  270252  384102  255699 \n",
      "C  325327  346793  271821  236149 \n",
      "T  212024  322379  267395  339584 \n"
     ]
    }
   ],
   "source": [
    "# count_bigrams.py\n",
    "#\n",
    "# Count the frequency of each pair of bases in a sequence found in a Fasta File\n",
    "# Usage:\n",
    "#      % python count_bigrams.py\n",
    "#\n",
    "# Anastasia Erofeeva\n",
    "# 10/12/19\n",
    "#\n",
    "# I got the idea to use replace() instead of strip() to remove the newline\n",
    "# characters from: https://stackoverflow.com/questions/13298907/\n",
    "# remove-all-newlines-from-inside-a-string\n",
    "\n",
    "\n",
    "from typing import Dict\n",
    "\n",
    "def readFastaFile(fileName: str) -> str:\n",
    "    \"Read in a fasta file, return contents\"\n",
    "    \n",
    "    try:    \n",
    "        # Open file\n",
    "        with open(fileName, 'r') as f:\n",
    "            \n",
    "            # Skip first line of file\n",
    "            next(f)\n",
    "            \n",
    "            # Return string containing file contents without \\n characters\n",
    "            return f.read().replace('\\n', '') \n",
    "\n",
    "    except IOError:\n",
    "        return 'File not found'\n",
    "\n",
    "\n",
    "def countDigrams(fileName: str) -> Dict[str, int]:\n",
    "    \"Count the pairs in the file\"\n",
    "    \n",
    "    text = readFastaFile(fileName)\n",
    "\n",
    "    pairsCount: Dict[str, int] = {}\n",
    "\n",
    "    # Check every index in text    \n",
    "    for i in range(len(text)):\n",
    "        \n",
    "        # Set pair equal to letter at current index and letter at next index\n",
    "        pair = text[i:i+2]\n",
    "        \n",
    "        # If pair not already in dictionary, add it to dictionary\n",
    "        if pair not in pairsCount:\n",
    "            pairsCount[pair] = 1\n",
    "        \n",
    "        # Otherwise increment the count of pair in dictionary\n",
    "        else:\n",
    "            pairsCount[pair] += 1\n",
    "            \n",
    "    return pairsCount\n",
    "\n",
    "\n",
    "def printDigrams(pairsCount: Dict[str, int]):\n",
    "    \"Print the digrams\"\n",
    "\n",
    "    bases = ['A', 'G', 'C', 'T']\n",
    "\n",
    "    # Print the column headings\n",
    "    print(' ', end=' ')\n",
    "    for ch in bases:\n",
    "        print(ch.rjust(7), end=' ')\n",
    "    print()\n",
    "\n",
    "    # Print the body of the table\n",
    "    for ch1 in bases:\n",
    "        print(ch1, end=' ')\n",
    "\n",
    "        # Print a row of the table\n",
    "        for ch2 in bases:\n",
    "            digram = ch1 + ch2\n",
    "            if (digram in pairsCount):\n",
    "                count = pairsCount[digram]\n",
    "            else:\n",
    "                count = 0\n",
    "\n",
    "            # Print count, with formating\n",
    "            print(repr(count).rjust(7), end=' ')\n",
    "        print()\n",
    "\n",
    "pairsCount = countDigrams('ecoli.fasta')\n",
    "printDigrams(pairsCount)"
   ]
  },
  {
   "cell_type": "code",
   "execution_count": null,
   "metadata": {},
   "outputs": [],
   "source": []
  }
 ],
 "metadata": {
  "kernelspec": {
   "display_name": "Python 3",
   "language": "python",
   "name": "python3"
  },
  "language_info": {
   "codemirror_mode": {
    "name": "ipython",
    "version": 3
   },
   "file_extension": ".py",
   "mimetype": "text/x-python",
   "name": "python",
   "nbconvert_exporter": "python",
   "pygments_lexer": "ipython3",
   "version": "3.7.3"
  }
 },
 "nbformat": 4,
 "nbformat_minor": 1
}
