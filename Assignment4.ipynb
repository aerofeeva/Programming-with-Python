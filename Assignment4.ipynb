{
 "cells": [
  {
   "cell_type": "markdown",
   "metadata": {},
   "source": [
    "# **Week 4: Homework**                                                         \n",
    "**24 September 2019**<br>\n",
    "<font color=blue>\n",
    "Notes:\n",
    "1. You will need data files: words.txt and short.fasta \n",
    "2. Make sure you run all cells which should be followed by your results.<br>  \n",
    "3. Upload your notebook and a PDF in Canvas A4.\n",
    "</font>"
   ]
  },
  {
   "cell_type": "markdown",
   "metadata": {},
   "source": [
    "**The Word List**  \n",
    "Many of the problems this semester will revolve around a list of English words, words.txtPreview the document that Downey provides.  In this assignment, we will use the file twice: once to look for five letter words that start with a and end with t, and once to look for palindromes, words like radar and madam, that are the same back to front and front to back.  "
   ]
  },
  {
   "cell_type": "markdown",
   "metadata": {},
   "source": [
    "## **Problem 0:  Leap Year**  \n",
    "Write a function is_leap_year() that decides if a given year is a leap year. You may assume that the year is after 1752, when the Gregorian Calendar took effect in England.\n",
    "In the Gregorian Calendar, all leap years are divisible by four, but multiples of 100 are not leap years unless they are also a multiple of 400. Thus 2016 was a leap year, but 1900 was not. 2000 was a leap year, as it is a multiple of 400, but 2100 will not be a leap year. \n"
   ]
  },
  {
   "cell_type": "code",
   "execution_count": 13,
   "metadata": {},
   "outputs": [
    {
     "name": "stdout",
     "output_type": "stream",
     "text": [
      "False\n"
     ]
    }
   ],
   "source": [
    "# leap.py\n",
    "#\n",
    "# Prints whether or not a given year is a leap year\n",
    "# Usage:\n",
    "#      % python leap.py\n",
    "#\n",
    "# Anastasia Erofeeva\n",
    "# 09/26/19\n",
    "#\n",
    "# This compact solution was discussed in the lecture and the Day 4 Notebook\n",
    "\n",
    "\n",
    "def is_leap_year(year: int) -> bool:\n",
    "    \"\"\"Takes an integer year and returns True if the given year \n",
    "    is a leap year, and False if the given year is not a leap year\"\"\"\n",
    "    'Is this year a leap year?'\n",
    "    if year % 100 == 0:    # If divisible by 100, check if divisible by 400 \n",
    "        return year % 400 == 0\n",
    "    return year % 4 == 0    # If not divisible by 100, check if divisible by 4\n",
    "\n",
    "print(is_leap_year(2019))"
   ]
  },
  {
   "cell_type": "markdown",
   "metadata": {},
   "source": [
    "## **Problem 1:  Vowels**  \n",
    "Write a Boolean function is_vowel() that decides if a string is a vowel.\n",
    "\n",
    "Write a Boolean function has_all_vowels() that decides if a string holds all 5 vowels, as vexatious and sequoia do.  \n",
    "\n",
    "Write a Boolean function is_all_vowels() that decides if a string contains nothing but vowels, as 'eau' does."
   ]
  },
  {
   "cell_type": "code",
   "execution_count": 14,
   "metadata": {},
   "outputs": [
    {
     "name": "stdout",
     "output_type": "stream",
     "text": [
      "True\n",
      "True\n",
      "False\n"
     ]
    }
   ],
   "source": [
    "# vowels.py\n",
    "#\n",
    "# Checks if a given character is a vowel, if a given word contains \n",
    "# all 5 vowels, and if a given word contains only vowels\n",
    "# Usage:\n",
    "#      % python vowels.py\n",
    "#\n",
    "# Anastasia Erofeeva\n",
    "# 09/26/19\n",
    "#\n",
    "# I got the idea to iterate over the string 'aeiou' from the discussion \n",
    "# of the homework and the code shown during lecture 4.\n",
    "\n",
    "\n",
    "def is_vowel(ch: str) -> bool:\n",
    "    \"\"\"Is ch a vowel?\"\"\"\n",
    "    return ch.lower() in 'aeiou'    # Converts to lowercase and checks if vowel\n",
    "\n",
    "\n",
    "def has_all_vowels(word: str) -> bool:\n",
    "    \"\"\"Does the word hold all 5 vowels?\"\"\"\n",
    "    for ch in 'aeiou':    # For every vowel, checks if the vowel is in the word\n",
    "        if not ch in word.lower():\n",
    "            return False\n",
    "    return True\n",
    "\n",
    "\n",
    "def is_all_vowels(word: str) -> bool:\n",
    "    \"\"\"Are all letters in the word vowels?\"\"\"\n",
    "    for ch in word.lower():    # Checks every letter in the lowercase word\n",
    "        return is_vowel(ch)    # Returns whether or not the letter is a vowel\n",
    "\n",
    "\n",
    "print(is_vowel('a'))\n",
    "print(has_all_vowels('sequoia'))\n",
    "print(is_all_vowels('food'))"
   ]
  },
  {
   "cell_type": "markdown",
   "metadata": {},
   "source": [
    "## **Problem 2:  Palindrome**  \n",
    "Write a Boolean function is_palindrome() that decides is a string is a palindrome, such as Radar or madam.  "
   ]
  },
  {
   "cell_type": "code",
   "execution_count": 15,
   "metadata": {},
   "outputs": [],
   "source": [
    "# palindrome.py\n",
    "#\n",
    "# Checks if a word is a palindrome\n",
    "# Usage:\n",
    "#      % python palindrome.py\n",
    "#\n",
    "# Anastasia Erofeeva\n",
    "# 09/26/19\n",
    "#\n",
    "# I got the idea to use [::-1] to reverse the string from the \n",
    "# discussion of the homework and the code shown during lecture 4.\n",
    "\n",
    "\n",
    "def is_palindrome(word: str) -> bool:\n",
    "    \"\"\"Is word a palindrome?\"\"\"\n",
    "    return word.lower() == word.lower()[::-1]    # [::-1] reverses the string\n",
    "\n",
    "\n",
    "assert(is_palindrome('Radar'))\n",
    "assert(is_palindrome('madam'))\n",
    "assert(not is_palindrome('Sock'))"
   ]
  },
  {
   "cell_type": "markdown",
   "metadata": {},
   "source": [
    "## **Problem 3:  Crossword Puzzle**  \n",
    "This problem has two parts.\n",
    "\n",
    "First, write a boolean function match() that takes a string and decides if it is a five letter word beginning in 'a' and ending in 't'.\n",
    "\n",
    "Next, write a function print_match() that takes two parameters: the path to a file with a list of words, and a boolean function func(). Your function print_match() should open the file, take each line of the file as a new word, and if func(word) returns True, print the result.\n",
    "\n",
    "Your program should call print_match('sample.txt', match) as shown in the skeleton file. "
   ]
  },
  {
   "cell_type": "code",
   "execution_count": 16,
   "metadata": {},
   "outputs": [
    {
     "name": "stdout",
     "output_type": "stream",
     "text": [
      "amort\n",
      "anent\n",
      "angst\n",
      "apart\n",
      "aport\n",
      "argot\n",
      "arhat\n",
      "armet\n",
      "ascot\n"
     ]
    }
   ],
   "source": [
    "# match.py\n",
    "#\n",
    "# Checks if a given word is a five letter word beginning in 'a' and\n",
    "# ending in 't'. Searches a given file for words that match these\n",
    "# criteria and prints the matches. \n",
    "# Usage:\n",
    "#      % python match.py\n",
    "#\n",
    "# Anastasia Erofeeva\n",
    "# 09/29/19\n",
    "\n",
    "\n",
    "def match(word: str) -> bool:\n",
    "    \"\"\"Is this a five letter word starting in 'a' and ending in 't'?\"\"\"\n",
    "    return len(word) == 5 and word[0] == 'a' and word[-1] == 't'\n",
    "\n",
    "\n",
    "def print_match(path: str, func) -> None:\n",
    "    \"\"\"Print all lines in file 'path' that boolean function func() accepts\"\"\"\n",
    "    with open(path, 'r') as words:    # Opens the file\n",
    "        # For every word in the file, checks if the word matches the criteria\n",
    "        for word in words:\n",
    "            word = word.strip()    # Removes the newline character\n",
    "            if func(word):\n",
    "                print(word)    # Prints matching words\n",
    "\n",
    "print_match('sample.txt', match)"
   ]
  },
  {
   "cell_type": "markdown",
   "metadata": {},
   "source": [
    "## **Problem 4:  Find Palindromes**  \n",
    "This problem has two parts.\n",
    "\n",
    "Use the work you have done so far to find the palindromes in words.txt.  You should use is_palindrome() from problem 2 and print_match() from problem 3.  Pass in the path to /course/data/words.txt, Downey's English Dictionary of 113K words, and print all the palindromes you find in the dictionary.  Use words.txt  "
   ]
  },
  {
   "cell_type": "code",
   "execution_count": 17,
   "metadata": {},
   "outputs": [
    {
     "name": "stdout",
     "output_type": "stream",
     "text": [
      "aa\n",
      "aba\n",
      "aga\n",
      "aha\n",
      "ala\n",
      "alula\n",
      "ama\n",
      "ana\n",
      "anna\n",
      "ava\n",
      "awa\n",
      "bib\n",
      "bob\n",
      "boob\n",
      "bub\n",
      "civic\n",
      "dad\n",
      "deed\n",
      "deified\n",
      "deked\n",
      "deled\n",
      "denned\n",
      "dewed\n",
      "did\n",
      "dud\n",
      "eke\n",
      "eme\n",
      "ere\n",
      "eve\n",
      "ewe\n",
      "eye\n",
      "gag\n",
      "gig\n",
      "hah\n",
      "halalah\n",
      "hallah\n",
      "huh\n",
      "kaiak\n",
      "kayak\n",
      "keek\n",
      "kook\n",
      "level\n",
      "madam\n",
      "marram\n",
      "mem\n",
      "mim\n",
      "minim\n",
      "mom\n",
      "mum\n",
      "noon\n",
      "nun\n",
      "oho\n",
      "otto\n",
      "pap\n",
      "peep\n",
      "pep\n",
      "pip\n",
      "poop\n",
      "pop\n",
      "pup\n",
      "radar\n",
      "redder\n",
      "refer\n",
      "reifier\n",
      "repaper\n",
      "reviver\n",
      "rotator\n",
      "rotor\n",
      "sagas\n",
      "sees\n",
      "selles\n",
      "sememes\n",
      "semes\n",
      "seres\n",
      "sexes\n",
      "shahs\n",
      "sis\n",
      "solos\n",
      "sos\n",
      "stets\n",
      "tat\n",
      "tenet\n",
      "terret\n",
      "tit\n",
      "toot\n",
      "tot\n",
      "tut\n",
      "vav\n",
      "waw\n",
      "wow\n",
      "yay\n"
     ]
    }
   ],
   "source": [
    "# find_palindromes.py\n",
    "#\n",
    "# Checks if a given word is a palindrome. Searches through a given file\n",
    "# of words and prints the ones that are palindromes. \n",
    "# Usage:\n",
    "#      % python find_palindromes.py\n",
    "#\n",
    "# Anastasia Erofeeva\n",
    "# 09/29/19\n",
    "\n",
    "\n",
    "def is_palindrome(word: str) -> bool:\n",
    "    \"\"\"Is word a palindrome?\"\"\"\n",
    "    return word.lower() == word.lower()[::-1]    # [::-1] reverses the string\n",
    "\n",
    "\n",
    "def print_match(path: str, func) -> None:\n",
    "    \"\"\"Print all lines in file 'path' that boolean function func() accepts\"\"\"\n",
    "    with open(path, 'r') as words:    # Opens the file\n",
    "        # For every word in the file, checks if the word matches the criteria\n",
    "        for word in words:\n",
    "            word = word.strip()    # Removes the newline character\n",
    "            if func(word):\n",
    "                print(word)    # Prints matching words\n",
    "\n",
    "\n",
    "print_match('words.txt', is_palindrome)"
   ]
  },
  {
   "cell_type": "markdown",
   "metadata": {},
   "source": [
    "## **Problem 5: Count the Bases**  \n",
    "Biologists use text files in the Fasta format to store genetic data.\n",
    "\n",
    "The first line of a Fasta file is a comment about the contents. Some files contain multiple data sets: our examples will have only one.\n",
    "\n",
    "The rest of the file will be a sequence of lines with data. DNA data consists of strings of the letters A, C, G and T representing the four bases that encode a genome. Letters may be upper case or lower case.\n",
    "\n",
    "Write a program that takes the file ecoli.fasta and prints the number of As, Cs, Gs, and Ts found in the sequence as below. Use a single space between the upper case letter and the count.\n",
    "\n",
    "Notes: You will need to add a file called ecoli.fasta to the same directory your notebook is running. Were you to process that file, you should print below.  short.fasta is also provided to you to start with a smaller test set.\n",
    "**Hint:** You will need to strip the first line in your fasta filem or skip over it using Python.\n",
    "\n",
    "A 47  \n",
    "C 27  \n",
    "G 31  \n",
    "T 49  "
   ]
  },
  {
   "cell_type": "code",
   "execution_count": 18,
   "metadata": {},
   "outputs": [
    {
     "name": "stdout",
     "output_type": "stream",
     "text": [
      "A 1142742\n",
      "C 1180091\n",
      "G 1177437\n",
      "T 1141382\n"
     ]
    }
   ],
   "source": [
    "# countDNA.py\n",
    "#\n",
    "# Counts the number of A, C, G, and T bases in the given\n",
    "# Fasta file and prints the counts.\n",
    "# Usage:\n",
    "#      % python countDNA.py\n",
    "#\n",
    "# Anastasia Erofeeva\n",
    "# 09/29/19\n",
    "#\n",
    "# I got the idea to use next(f) to skip the first line of the file from: \n",
    "# https://stackoverflow.com/questions/4796764/read-file-from-line-2-or-skip-header-row\n",
    "# I also decided to refactor my previous solution to reduce redundancy,\n",
    "# based on the discussion of this problem and the code shown during the lecture \n",
    "\n",
    "\n",
    "def count_bases(base: str, dna: str) -> int:\n",
    "    \"\"\"Returns the number of characters that match the given base \n",
    "    in the given string of dna\"\"\"\n",
    "    count = 0\n",
    "    # Checks each letter in the string and increments the count \n",
    "    # if the letter matches the given base\n",
    "    for letter in dna:\n",
    "        if letter == base:\n",
    "            count += 1\n",
    "    return count\n",
    "\n",
    "\n",
    "def print_counts(path: str) -> None:\n",
    "    \"\"\"Prints the counts of A, C, G, and T bases in file given by path\"\"\"\n",
    "    # Open /course/data/ecoli.fasta and count the bases\n",
    "    with open(path, 'r') as f:\n",
    "        next(f)    # Skips the first line of the file\n",
    "        dna = f.read()    # Reads the rest of the file as a string\n",
    "        # Prints the counts of each base in the correct format\n",
    "        for letter in 'ACGT':\n",
    "            # %s formats strings, %d formats integers\n",
    "            print('%s %d' %(letter, count_bases(letter, dna)))\n",
    "\n",
    "\n",
    "print_counts('ecoli.fasta')"
   ]
  },
  {
   "cell_type": "code",
   "execution_count": 19,
   "metadata": {},
   "outputs": [
    {
     "name": "stdout",
     "output_type": "stream",
     "text": [
      "A 47\n",
      "C 27\n",
      "G 31\n",
      "T 49\n"
     ]
    }
   ],
   "source": [
    "print_counts('short.fasta')"
   ]
  },
  {
   "cell_type": "code",
   "execution_count": null,
   "metadata": {},
   "outputs": [],
   "source": []
  }
 ],
 "metadata": {
  "kernelspec": {
   "display_name": "Python 3",
   "language": "python",
   "name": "python3"
  },
  "language_info": {
   "codemirror_mode": {
    "name": "ipython",
    "version": 3
   },
   "file_extension": ".py",
   "mimetype": "text/x-python",
   "name": "python",
   "nbconvert_exporter": "python",
   "pygments_lexer": "ipython3",
   "version": "3.7.3"
  }
 },
 "nbformat": 4,
 "nbformat_minor": 2
}
